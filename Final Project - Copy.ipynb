{
 "cells": [
  {
   "cell_type": "code",
   "execution_count": 2,
   "metadata": {
    "scrolled": false
   },
   "outputs": [
    {
     "name": "stderr",
     "output_type": "stream",
     "text": [
      "C:\\Users\\micha\\Anaconda2\\lib\\site-packages\\sklearn\\cross_validation.py:41: DeprecationWarning: This module was deprecated in version 0.18 in favor of the model_selection module into which all the refactored classes and functions are moved. Also note that the interface of the new CV iterators are different from that of this module. This module will be removed in 0.20.\n",
      "  \"This module will be removed in 0.20.\", DeprecationWarning)\n",
      "C:\\Users\\micha\\Anaconda2\\lib\\site-packages\\IPython\\core\\interactiveshell.py:2718: DtypeWarning: Columns (112,123,124,125,128,129,130,133,139,140,141) have mixed types. Specify dtype option on import or set low_memory=False.\n",
      "  interactivity=interactivity, compiler=compiler, result=result)\n"
     ]
    }
   ],
   "source": [
    "import pandas as pd\n",
    "import numpy as np\n",
    "from sklearn.linear_model import LogisticRegression, RidgeClassifierCV\n",
    "from sklearn.ensemble import RandomForestClassifier, GradientBoostingClassifier\n",
    "from sklearn.tree import DecisionTreeClassifier\n",
    "from sklearn.cross_validation import cross_val_score\n",
    "from sklearn.preprocessing import Imputer\n",
    "from sklearn import preprocessing\n",
    "from sklearn.base import BaseEstimator\n",
    "import random\n",
    "\n",
    "df = pd.read_csv(r\"C:\\Users\\micha\\Desktop\\Loan Stats\\LoanStats_2017.csv\")\n"
   ]
  },
  {
   "cell_type": "code",
   "execution_count": null,
   "metadata": {
    "collapsed": true
   },
   "outputs": [],
   "source": []
  },
  {
   "cell_type": "code",
   "execution_count": 3,
   "metadata": {},
   "outputs": [
    {
     "name": "stderr",
     "output_type": "stream",
     "text": [
      "C:\\Users\\micha\\Anaconda2\\lib\\site-packages\\pandas\\core\\generic.py:3110: SettingWithCopyWarning: \n",
      "A value is trying to be set on a copy of a slice from a DataFrame.\n",
      "Try using .loc[row_indexer,col_indexer] = value instead\n",
      "\n",
      "See the caveats in the documentation: http://pandas.pydata.org/pandas-docs/stable/indexing.html#indexing-view-versus-copy\n",
      "  self[name] = value\n"
     ]
    },
    {
     "data": {
      "text/plain": [
       "array(['Current', 'Late (31-120 days)', 'Fully Paid', 'In Grace Period',\n",
       "       'Charged Off', 'Late (16-30 days)'], dtype=object)"
      ]
     },
     "execution_count": 3,
     "metadata": {},
     "output_type": "execute_result"
    }
   ],
   "source": [
    "df = df[df['application_type']=='Individual'] #Isolate for Individual applicants because of the conflating factors associated \n",
    "#with joint filing\n",
    "df.head()\n",
    "df = df[df['term'] ==\" 36 months\"] #filter for only 36 months\n",
    "df.count()\n",
    "cols_to_keep = ['funded_amnt_inv',\"int_rate\",\"grade\",\"sub_grade\",'home_ownership','annual_inc','issue_d',\"loan_status\",'purpose',\n",
    "\"addr_state\",'dti','delinq_2yrs','revol_bal','total_acc',\"pub_rec_bankruptcies\",\n",
    "\"total_il_high_credit_limit\"]\n",
    "data = df[cols_to_keep]\n",
    "data.int_rate = pd.Series(data.int_rate).str.replace('%', '').astype(float)\n",
    "data.loan_status.unique()"
   ]
  },
  {
   "cell_type": "code",
   "execution_count": 5,
   "metadata": {},
   "outputs": [],
   "source": [
    "data.loan_status = pd.Series(data.loan_status).replace(\"Current\",0)\n",
    "data.loan_status = pd.Series(data.loan_status).replace(\"Fully Paid\",0)\n",
    "data.loan_status = pd.Series(data.loan_status).replace(\"Charged Off\",1)\n",
    "data.loan_status = pd.Series(data.loan_status).replace(\"Late (31-120 days)\",1)\n",
    "data.loan_status = pd.Series(data.loan_status).replace(\"Late (16-30 days)\",1)\n",
    "data.loan_status = pd.Series(data.loan_status).replace(\"In Grace Period\",1)\n",
    "\n",
    "data.loan_status.astype(int)\n",
    "data = data[data['annual_inc']<10000000]"
   ]
  },
  {
   "cell_type": "code",
   "execution_count": 51,
   "metadata": {},
   "outputs": [
    {
     "data": {
      "text/html": [
       "<div>\n",
       "<style>\n",
       "    .dataframe thead tr:only-child th {\n",
       "        text-align: right;\n",
       "    }\n",
       "\n",
       "    .dataframe thead th {\n",
       "        text-align: left;\n",
       "    }\n",
       "\n",
       "    .dataframe tbody tr th {\n",
       "        vertical-align: top;\n",
       "    }\n",
       "</style>\n",
       "<table border=\"1\" class=\"dataframe\">\n",
       "  <thead>\n",
       "    <tr style=\"text-align: right;\">\n",
       "      <th></th>\n",
       "      <th>funded_amnt_inv</th>\n",
       "      <th>int_rate</th>\n",
       "      <th>grade</th>\n",
       "      <th>sub_grade</th>\n",
       "      <th>home_ownership</th>\n",
       "      <th>annual_inc</th>\n",
       "      <th>issue_d</th>\n",
       "      <th>loan_status</th>\n",
       "      <th>purpose</th>\n",
       "      <th>addr_state</th>\n",
       "      <th>dti</th>\n",
       "      <th>delinq_2yrs</th>\n",
       "      <th>revol_bal</th>\n",
       "      <th>total_acc</th>\n",
       "      <th>pub_rec_bankruptcies</th>\n",
       "      <th>total_il_high_credit_limit</th>\n",
       "    </tr>\n",
       "  </thead>\n",
       "  <tbody>\n",
       "    <tr>\n",
       "      <th>10949</th>\n",
       "      <td>5000</td>\n",
       "      <td>18.06</td>\n",
       "      <td>D</td>\n",
       "      <td>D2</td>\n",
       "      <td>RENT</td>\n",
       "      <td>10999200.0</td>\n",
       "      <td>Sep-17</td>\n",
       "      <td>0</td>\n",
       "      <td>major_purchase</td>\n",
       "      <td>CA</td>\n",
       "      <td>0.07</td>\n",
       "      <td>1</td>\n",
       "      <td>534</td>\n",
       "      <td>7</td>\n",
       "      <td>0</td>\n",
       "      <td>28669</td>\n",
       "    </tr>\n",
       "    <tr>\n",
       "      <th>246684</th>\n",
       "      <td>10000</td>\n",
       "      <td>11.44</td>\n",
       "      <td>B</td>\n",
       "      <td>B4</td>\n",
       "      <td>MORTGAGE</td>\n",
       "      <td>61000000.0</td>\n",
       "      <td>Mar-17</td>\n",
       "      <td>0</td>\n",
       "      <td>debt_consolidation</td>\n",
       "      <td>VA</td>\n",
       "      <td>0.01</td>\n",
       "      <td>0</td>\n",
       "      <td>14413</td>\n",
       "      <td>6</td>\n",
       "      <td>0</td>\n",
       "      <td>0</td>\n",
       "    </tr>\n",
       "  </tbody>\n",
       "</table>\n",
       "</div>"
      ],
      "text/plain": [
       "        funded_amnt_inv  int_rate grade sub_grade home_ownership  annual_inc  \\\n",
       "10949              5000     18.06     D        D2           RENT  10999200.0   \n",
       "246684            10000     11.44     B        B4       MORTGAGE  61000000.0   \n",
       "\n",
       "       issue_d  loan_status             purpose addr_state   dti  delinq_2yrs  \\\n",
       "10949   Sep-17            0      major_purchase         CA  0.07            1   \n",
       "246684  Mar-17            0  debt_consolidation         VA  0.01            0   \n",
       "\n",
       "        revol_bal  total_acc  pub_rec_bankruptcies  total_il_high_credit_limit  \n",
       "10949         534          7                     0                       28669  \n",
       "246684      14413          6                     0                           0  "
      ]
     },
     "execution_count": 51,
     "metadata": {},
     "output_type": "execute_result"
    }
   ],
   "source": []
  },
  {
   "cell_type": "code",
   "execution_count": 224,
   "metadata": {
    "scrolled": true
   },
   "outputs": [
    {
     "data": {
      "text/html": [
       "<div>\n",
       "<style>\n",
       "    .dataframe thead tr:only-child th {\n",
       "        text-align: right;\n",
       "    }\n",
       "\n",
       "    .dataframe thead th {\n",
       "        text-align: left;\n",
       "    }\n",
       "\n",
       "    .dataframe tbody tr th {\n",
       "        vertical-align: top;\n",
       "    }\n",
       "</style>\n",
       "<table border=\"1\" class=\"dataframe\">\n",
       "  <thead>\n",
       "    <tr style=\"text-align: right;\">\n",
       "      <th></th>\n",
       "      <th>funded_amnt_inv</th>\n",
       "      <th>int_rate</th>\n",
       "      <th>annual_inc</th>\n",
       "      <th>dti</th>\n",
       "      <th>delinq_2yrs</th>\n",
       "      <th>revol_bal</th>\n",
       "      <th>total_acc</th>\n",
       "      <th>pub_rec_bankruptcies</th>\n",
       "      <th>total_il_high_credit_limit</th>\n",
       "    </tr>\n",
       "  </thead>\n",
       "  <tbody>\n",
       "    <tr>\n",
       "      <th>count</th>\n",
       "      <td>223686.000000</td>\n",
       "      <td>223686.000000</td>\n",
       "      <td>2.236860e+05</td>\n",
       "      <td>223686.000000</td>\n",
       "      <td>223686.000000</td>\n",
       "      <td>2.236860e+05</td>\n",
       "      <td>223686.000000</td>\n",
       "      <td>223686.000000</td>\n",
       "      <td>2.236860e+05</td>\n",
       "    </tr>\n",
       "    <tr>\n",
       "      <th>mean</th>\n",
       "      <td>12074.056713</td>\n",
       "      <td>12.271436</td>\n",
       "      <td>7.832819e+04</td>\n",
       "      <td>17.825421</td>\n",
       "      <td>0.357993</td>\n",
       "      <td>1.520111e+04</td>\n",
       "      <td>22.960033</td>\n",
       "      <td>0.138337</td>\n",
       "      <td>4.285660e+04</td>\n",
       "    </tr>\n",
       "    <tr>\n",
       "      <th>std</th>\n",
       "      <td>8672.471309</td>\n",
       "      <td>4.633513</td>\n",
       "      <td>1.493765e+05</td>\n",
       "      <td>8.087843</td>\n",
       "      <td>0.964925</td>\n",
       "      <td>2.218537e+04</td>\n",
       "      <td>11.808113</td>\n",
       "      <td>0.383147</td>\n",
       "      <td>4.461362e+04</td>\n",
       "    </tr>\n",
       "    <tr>\n",
       "      <th>min</th>\n",
       "      <td>1000.000000</td>\n",
       "      <td>5.320000</td>\n",
       "      <td>3.400000e+03</td>\n",
       "      <td>0.000000</td>\n",
       "      <td>0.000000</td>\n",
       "      <td>0.000000e+00</td>\n",
       "      <td>2.000000</td>\n",
       "      <td>0.000000</td>\n",
       "      <td>0.000000e+00</td>\n",
       "    </tr>\n",
       "    <tr>\n",
       "      <th>25%</th>\n",
       "      <td>6000.000000</td>\n",
       "      <td>8.240000</td>\n",
       "      <td>4.500000e+04</td>\n",
       "      <td>11.690000</td>\n",
       "      <td>0.000000</td>\n",
       "      <td>5.275000e+03</td>\n",
       "      <td>14.000000</td>\n",
       "      <td>0.000000</td>\n",
       "      <td>1.490400e+04</td>\n",
       "    </tr>\n",
       "    <tr>\n",
       "      <th>50%</th>\n",
       "      <td>10000.000000</td>\n",
       "      <td>11.490000</td>\n",
       "      <td>6.500000e+04</td>\n",
       "      <td>17.440000</td>\n",
       "      <td>0.000000</td>\n",
       "      <td>9.953500e+03</td>\n",
       "      <td>21.000000</td>\n",
       "      <td>0.000000</td>\n",
       "      <td>3.184800e+04</td>\n",
       "    </tr>\n",
       "    <tr>\n",
       "      <th>75%</th>\n",
       "      <td>15825.000000</td>\n",
       "      <td>14.990000</td>\n",
       "      <td>9.300000e+04</td>\n",
       "      <td>23.810000</td>\n",
       "      <td>0.000000</td>\n",
       "      <td>1.801600e+04</td>\n",
       "      <td>29.000000</td>\n",
       "      <td>0.000000</td>\n",
       "      <td>5.709775e+04</td>\n",
       "    </tr>\n",
       "    <tr>\n",
       "      <th>max</th>\n",
       "      <td>40000.000000</td>\n",
       "      <td>30.990000</td>\n",
       "      <td>6.100000e+07</td>\n",
       "      <td>39.990000</td>\n",
       "      <td>42.000000</td>\n",
       "      <td>1.698749e+06</td>\n",
       "      <td>151.000000</td>\n",
       "      <td>7.000000</td>\n",
       "      <td>1.736064e+06</td>\n",
       "    </tr>\n",
       "  </tbody>\n",
       "</table>\n",
       "</div>"
      ],
      "text/plain": [
       "       funded_amnt_inv       int_rate    annual_inc            dti  \\\n",
       "count    223686.000000  223686.000000  2.236860e+05  223686.000000   \n",
       "mean      12074.056713      12.271436  7.832819e+04      17.825421   \n",
       "std        8672.471309       4.633513  1.493765e+05       8.087843   \n",
       "min        1000.000000       5.320000  3.400000e+03       0.000000   \n",
       "25%        6000.000000       8.240000  4.500000e+04      11.690000   \n",
       "50%       10000.000000      11.490000  6.500000e+04      17.440000   \n",
       "75%       15825.000000      14.990000  9.300000e+04      23.810000   \n",
       "max       40000.000000      30.990000  6.100000e+07      39.990000   \n",
       "\n",
       "         delinq_2yrs     revol_bal      total_acc  pub_rec_bankruptcies  \\\n",
       "count  223686.000000  2.236860e+05  223686.000000         223686.000000   \n",
       "mean        0.357993  1.520111e+04      22.960033              0.138337   \n",
       "std         0.964925  2.218537e+04      11.808113              0.383147   \n",
       "min         0.000000  0.000000e+00       2.000000              0.000000   \n",
       "25%         0.000000  5.275000e+03      14.000000              0.000000   \n",
       "50%         0.000000  9.953500e+03      21.000000              0.000000   \n",
       "75%         0.000000  1.801600e+04      29.000000              0.000000   \n",
       "max        42.000000  1.698749e+06     151.000000              7.000000   \n",
       "\n",
       "       total_il_high_credit_limit  \n",
       "count                2.236860e+05  \n",
       "mean                 4.285660e+04  \n",
       "std                  4.461362e+04  \n",
       "min                  0.000000e+00  \n",
       "25%                  1.490400e+04  \n",
       "50%                  3.184800e+04  \n",
       "75%                  5.709775e+04  \n",
       "max                  1.736064e+06  "
      ]
     },
     "execution_count": 224,
     "metadata": {},
     "output_type": "execute_result"
    }
   ],
   "source": [
    "data.describe()"
   ]
  },
  {
   "cell_type": "code",
   "execution_count": 55,
   "metadata": {
    "collapsed": true
   },
   "outputs": [],
   "source": []
  },
  {
   "cell_type": "code",
   "execution_count": 56,
   "metadata": {},
   "outputs": [
    {
     "name": "stdout",
     "output_type": "stream",
     "text": [
      "<class 'pandas.core.frame.DataFrame'>\n",
      "Int64Index: 223681 entries, 2 to 324929\n",
      "Data columns (total 16 columns):\n",
      "funded_amnt_inv               223681 non-null int64\n",
      "int_rate                      223681 non-null float64\n",
      "grade                         223681 non-null object\n",
      "sub_grade                     223681 non-null object\n",
      "home_ownership                223681 non-null object\n",
      "annual_inc                    223681 non-null float64\n",
      "issue_d                       223681 non-null object\n",
      "loan_status                   223681 non-null int64\n",
      "purpose                       223681 non-null object\n",
      "addr_state                    223681 non-null object\n",
      "dti                           223681 non-null float64\n",
      "delinq_2yrs                   223681 non-null int64\n",
      "revol_bal                     223681 non-null int64\n",
      "total_acc                     223681 non-null int64\n",
      "pub_rec_bankruptcies          223681 non-null int64\n",
      "total_il_high_credit_limit    223681 non-null int64\n",
      "dtypes: float64(3), int64(7), object(6)\n",
      "memory usage: 29.0+ MB\n"
     ]
    }
   ],
   "source": [
    "data.info()"
   ]
  },
  {
   "cell_type": "code",
   "execution_count": 15,
   "metadata": {},
   "outputs": [
    {
     "data": {
      "text/plain": [
       "<matplotlib.collections.PathCollection at 0x193d2f60>"
      ]
     },
     "execution_count": 15,
     "metadata": {},
     "output_type": "execute_result"
    },
    {
     "data": {
      "image/png": "[encoded data removed]",
      "text/plain": [
       "<matplotlib.figure.Figure at 0x19d7cb70>"
      ]
     },
     "metadata": {},
     "output_type": "display_data"
    }
   ],
   "source": [
    "%matplotlib inline\n",
    "import matplotlib.pyplot as plt\n",
    "import seaborn as sns\n",
    "import numpy as np\n",
    "data_A = data[(data['annual_inc']<200000)&(data['grade']==\"A\")]\n",
    "x = np.array(data_A['annual_inc'])\n",
    "y = np.array(data_A['int_rate'])\n",
    "plt.scatter(x,y,alpha=.01, c='g')\n",
    "\n",
    "data_B = data[(data['annual_inc']<200000)&(data['grade']==\"B\")]\n",
    "x = np.array(data_B['annual_inc'])\n",
    "y = np.array(data_B['int_rate'])\n",
    "plt.scatter(x,y,alpha=.01, c='greenyellow')\n",
    "\n",
    "data_C = data[(data['annual_inc']<200000)&(data['grade']==\"C\")]\n",
    "x = np.array(data_C['annual_inc'])\n",
    "y = np.array(data_C['int_rate'])\n",
    "plt.scatter(x,y,alpha=.01,c='y')\n",
    "\n",
    "data_D = data[(data['annual_inc']<200000)&(data['grade']==\"D\")]\n",
    "x = np.array(data_D['annual_inc'])\n",
    "y = np.array(data_D['int_rate'])\n",
    "plt.scatter(x,y,alpha=.01,c='orange')\n",
    "\n",
    "\n",
    "data_E = data[(data['annual_inc']<200000)&(data['grade']==\"E\")]\n",
    "x = np.array(data_E['annual_inc'])\n",
    "y = np.array(data_E['int_rate'])\n",
    "plt.scatter(x,y,alpha=.01,c=\"orangered\")\n",
    "\n",
    "data_F = data[(data['annual_inc']<200000)&(data['grade']==\"F\")]\n",
    "x = np.array(data_F['annual_inc'])\n",
    "y = np.array(data_F['int_rate'])\n",
    "plt.scatter(x,y,alpha=.01,c='red')"
   ]
  },
  {
   "cell_type": "code",
   "execution_count": 14,
   "metadata": {},
   "outputs": [
    {
     "ename": "NameError",
     "evalue": "name 'plt' is not defined",
     "output_type": "error",
     "traceback": [
      "\u001b[1;31m\u001b[0m",
      "\u001b[1;31mNameError\u001b[0mTraceback (most recent call last)",
      "\u001b[1;32m<ipython-input-14-da5896ea3ad4>\u001b[0m in \u001b[0;36m<module>\u001b[1;34m()\u001b[0m\n\u001b[0;32m      1\u001b[0m \u001b[0mx\u001b[0m \u001b[1;33m=\u001b[0m \u001b[0mnp\u001b[0m\u001b[1;33m.\u001b[0m\u001b[0marray\u001b[0m\u001b[1;33m(\u001b[0m\u001b[0mdata\u001b[0m\u001b[1;33m[\u001b[0m\u001b[1;34m'grade'\u001b[0m\u001b[1;33m]\u001b[0m\u001b[1;33m)\u001b[0m\u001b[1;33m\u001b[0m\u001b[0m\n\u001b[0;32m      2\u001b[0m \u001b[0my\u001b[0m \u001b[1;33m=\u001b[0m \u001b[0mnp\u001b[0m\u001b[1;33m.\u001b[0m\u001b[0marray\u001b[0m\u001b[1;33m(\u001b[0m\u001b[0mdata\u001b[0m\u001b[1;33m[\u001b[0m\u001b[1;34m'int_rate'\u001b[0m\u001b[1;33m]\u001b[0m\u001b[1;33m)\u001b[0m\u001b[1;33m\u001b[0m\u001b[0m\n\u001b[1;32m----> 3\u001b[1;33m \u001b[0mplt\u001b[0m\u001b[1;33m.\u001b[0m\u001b[0mhist\u001b[0m\u001b[1;33m(\u001b[0m\u001b[0mx\u001b[0m\u001b[1;33m,\u001b[0m\u001b[0my\u001b[0m\u001b[1;33m)\u001b[0m\u001b[1;33m\u001b[0m\u001b[0m\n\u001b[0m",
      "\u001b[1;31mNameError\u001b[0m: name 'plt' is not defined"
     ]
    }
   ],
   "source": [
    "x = np.array(data['grade'])\n",
    "y = np.array(data['int_rate'])\n",
    "plt.hist(x,y)"
   ]
  },
  {
   "cell_type": "code",
   "execution_count": 245,
   "metadata": {},
   "outputs": [
    {
     "ename": "AttributeError",
     "evalue": "'numpy.float64' object has no attribute 'drop'",
     "output_type": "error",
     "traceback": [
      "\u001b[1;31m\u001b[0m",
      "\u001b[1;31mAttributeError\u001b[0mTraceback (most recent call last)",
      "\u001b[1;32m<ipython-input-245-d6cab6f3bede>\u001b[0m in \u001b[0;36m<module>\u001b[1;34m()\u001b[0m\n\u001b[1;32m----> 1\u001b[1;33m \u001b[0mdata\u001b[0m\u001b[1;33m.\u001b[0m\u001b[0mannual_inc\u001b[0m\u001b[1;33m.\u001b[0m\u001b[0mmax\u001b[0m\u001b[1;33m(\u001b[0m\u001b[1;33m)\u001b[0m\u001b[1;33m.\u001b[0m\u001b[0mdrop\u001b[0m\u001b[1;33m\u001b[0m\u001b[0m\n\u001b[0m",
      "\u001b[1;31mAttributeError\u001b[0m: 'numpy.float64' object has no attribute 'drop'"
     ]
    }
   ],
   "source": [
    "x = np.array(data['income'])\n",
    "y = np.array(data['funded_amnt'])"
   ]
  },
  {
   "cell_type": "code",
   "execution_count": 28,
   "metadata": {},
   "outputs": [
    {
     "data": {
      "text/plain": [
       "21564"
      ]
     },
     "execution_count": 28,
     "metadata": {},
     "output_type": "execute_result"
    }
   ],
   "source": [
    "d = data[(data['grade']==\"D\")&(data['loan_status']==0)]\n",
    "len(d)\n"
   ]
  }
 ],
 "metadata": {
  "kernelspec": {
   "display_name": "Python 2",
   "language": "python",
   "name": "python2"
  },
  "language_info": {
   "codemirror_mode": {
    "name": "ipython",
    "version": 2
   },
   "file_extension": ".py",
   "mimetype": "text/x-python",
   "name": "python",
   "nbconvert_exporter": "python",
   "pygments_lexer": "ipython2",
   "version": "2.7.14"
  }
 },
 "nbformat": 4,
 "nbformat_minor": 2
}

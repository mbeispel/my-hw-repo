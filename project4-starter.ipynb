{
 "cells": [
  {
   "cell_type": "markdown",
   "metadata": {},
   "source": [
    "# Project 4\n",
    "\n",
    "In this project, you will summarize and present your analysis from Projects 1-3."
   ]
  },
  {
   "cell_type": "markdown",
   "metadata": {},
   "source": [
    "### Intro: Write a problem Statement/ Specific Aim for this project"
   ]
  },
  {
   "cell_type": "markdown",
   "metadata": {},
   "source": [
    "Answer: The problem is to determine the factors and odds of admission into UCLA graduate school."
   ]
  },
  {
   "cell_type": "markdown",
   "metadata": {},
   "source": [
    "### Dataset:  Write up a description of your data and any cleaning that was completed"
   ]
  },
  {
   "cell_type": "markdown",
   "metadata": {},
   "source": [
    "Answer: The data contained the prospective student's GPA, GRE, School Rank and if they were admitted. In order to clean it we had to turn the school rank into binary data with the get dummies function. We also had to drop the nulls."
   ]
  },
  {
   "cell_type": "markdown",
   "metadata": {
    "collapsed": true
   },
   "source": [
    "### Demo: Provide a table that explains the data by admission status"
   ]
  },
  {
   "cell_type": "markdown",
   "metadata": {},
   "source": [
    "Mean (STD) or counts by admission status for each variable \n",
    "\n",
    "| Not Admitted | Admitted\n",
    "---| ---|---\n",
    "GPA | mean(std)  | mean(std)\n",
    "GRE |mean(std) | mean(std)\n",
    "Prestige 1 | frequency (%) | frequency (%)\n",
    "Prestige 2 | frequency (%) | frequency (%)\n",
    "Prestige 3 |frequency (%) | frequency (%)\n",
    "Prestige 4 |frequency (%) | frequency (%)"
   ]
  },
  {
   "cell_type": "code",
   "execution_count": 17,
   "metadata": {},
   "outputs": [
    {
     "name": "stdout",
     "output_type": "stream",
     "text": [
      "admit                  0           1\n",
      "gre           573.579336  618.571429\n",
      "gpa             3.347159    3.489206\n",
      "prestige_2.0    0.350554    0.420635\n",
      "prestige_3.0    0.343173    0.222222\n",
      "prestige_4.0    0.202952    0.095238\n"
     ]
    },
    {
     "data": {
      "text/plain": [
       "0.68484365228267674"
      ]
     },
     "execution_count": 17,
     "metadata": {},
     "output_type": "execute_result"
    }
   ],
   "source": [
    "%matplotlib inline\n",
    "import matplotlib.pyplot as plt\n",
    "import pandas as pd\n",
    "import statsmodels.api as sm\n",
    "import pylab as pl\n",
    "import numpy as np\n",
    "import sklearn\n",
    "from sklearn.linear_model import LogisticRegression\n",
    "from sklearn import cross_validation\n",
    "from sklearn.model_selection import cross_val_score\n",
    "df_raw = pd.read_csv(\"../assets/admissions.csv\")\n",
    "df = df_raw.dropna() \n",
    "df2 = pd.get_dummies(df.prestige,prefix='prestige')\n",
    "df = df.iloc[:,0:3].join(df2.iloc[:,1:])\n",
    "print (df.groupby(df['admit']).mean().T)\n",
    "df.head()\n",
    "X = df.iloc[:,1:]\n",
    "y = df.admit\n",
    "model = LogisticRegression(C=.5)\n",
    "model.fit(X,y)\n",
    "cross_val_score(model,X,y,cv=10).mean()"
   ]
  },
  {
   "cell_type": "markdown",
   "metadata": {},
   "source": [
    "### Methods: Write up the methods used in your analysis"
   ]
  },
  {
   "cell_type": "markdown",
   "metadata": {},
   "source": [
    "Answer: I used sklearn's Logistic Regression module determine the odds of admissions and how the features changed odds of admission. In the end we were able to predict the odds of admission with 68% accuracy."
   ]
  },
  {
   "cell_type": "markdown",
   "metadata": {},
   "source": [
    "### Results: Write up your results"
   ]
  },
  {
   "cell_type": "markdown",
   "metadata": {},
   "source": [
    "Answer: As expected, GPA made the biggest impact, then GRE, then finally prestige."
   ]
  },
  {
   "cell_type": "markdown",
   "metadata": {},
   "source": [
    "### Visuals: Provide a table or visualization of these results"
   ]
  },
  {
   "cell_type": "code",
   "execution_count": 22,
   "metadata": {},
   "outputs": [
    {
     "name": "stdout",
     "output_type": "stream",
     "text": [
      "            gpa         gre  prestige_2.0  prestige_3.0  prestige_4.0\n",
      "admit                                                                \n",
      "0      3.347159  573.579336      0.350554      0.343173      0.202952\n",
      "1      3.489206  618.571429      0.420635      0.222222      0.095238\n"
     ]
    }
   ],
   "source": [
    "print(pd.pivot_table(df,index='admit'))\n",
    "\n"
   ]
  },
  {
   "cell_type": "code",
   "execution_count": 34,
   "metadata": {},
   "outputs": [
    {
     "name": "stdout",
     "output_type": "stream",
     "text": [
      "Optimization terminated successfully.\n",
      "         Current function value: 0.589121\n",
      "         Iterations 5\n",
      "                           Logit Regression Results                           \n",
      "==============================================================================\n",
      "Dep. Variable:                  admit   No. Observations:                  397\n",
      "Model:                          Logit   Df Residuals:                      392\n",
      "Method:                           MLE   Df Model:                            4\n",
      "Date:                Wed, 17 Jan 2018   Pseudo R-squ.:                 0.05722\n",
      "Time:                        21:30:19   Log-Likelihood:                -233.88\n",
      "converged:                       True   LL-Null:                       -248.08\n",
      "                                        LLR p-value:                 1.039e-05\n",
      "================================================================================\n",
      "                   coef    std err          z      P>|z|      [0.025      0.975]\n",
      "--------------------------------------------------------------------------------\n",
      "gre              0.0014      0.001      1.308      0.191      -0.001       0.003\n",
      "gpa             -0.1323      0.195     -0.680      0.497      -0.514       0.249\n",
      "prestige_2.0    -0.9562      0.302     -3.171      0.002      -1.547      -0.365\n",
      "prestige_3.0    -1.5375      0.332     -4.627      0.000      -2.189      -0.886\n",
      "prestige_4.0    -1.8699      0.401     -4.658      0.000      -2.657      -1.083\n",
      "================================================================================\n"
     ]
    }
   ],
   "source": [
    "lr = sm.Logit(y,X)\n",
    "Logit = lr.fit()\n",
    "print(Logit.summary())"
   ]
  },
  {
   "cell_type": "markdown",
   "metadata": {},
   "source": [
    "<img src='placeholder.png' height= 25% width= 25%>"
   ]
  },
  {
   "cell_type": "markdown",
   "metadata": {},
   "source": [
    "<img src='placeholder.png' height= 25% width= 25%>"
   ]
  },
  {
   "cell_type": "markdown",
   "metadata": {},
   "source": [
    "### Discussion: Write up your discussion and future steps"
   ]
  },
  {
   "cell_type": "markdown",
   "metadata": {},
   "source": [
    "Answer: We could do a further analysis to see how important each factor is if we hold the other ones constant. Additionally, we could see how other models fair on predicting admissions."
   ]
  }
 ],
 "metadata": {
  "kernelspec": {
   "display_name": "Python 2",
   "language": "python",
   "name": "python2"
  },
  "language_info": {
   "codemirror_mode": {
    "name": "ipython",
    "version": 2
   },
   "file_extension": ".py",
   "mimetype": "text/x-python",
   "name": "python",
   "nbconvert_exporter": "python",
   "pygments_lexer": "ipython2",
   "version": "2.7.14"
  }
 },
 "nbformat": 4,
 "nbformat_minor": 1
}
